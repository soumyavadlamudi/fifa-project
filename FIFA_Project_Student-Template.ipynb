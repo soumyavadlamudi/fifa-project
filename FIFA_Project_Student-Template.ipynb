{
 "cells": [
  {
   "cell_type": "code",
   "execution_count": 1,
   "metadata": {},
   "outputs": [],
   "source": [
    "# import the modules\n",
    "import numpy as np\n",
    "import pandas as pd\n",
    "from sklearn.model_selection import train_test_split\n",
    "from sklearn.linear_model import LinearRegression\n",
    "from sklearn.metrics import mean_squared_error, r2_score, mean_absolute_error\n",
    "from sklearn.preprocessing import PolynomialFeatures, LabelEncoder\n",
    "import matplotlib.pyplot as plt\n",
    "import seaborn as sns\n",
    "import warnings\n",
    "warnings.filterwarnings('ignore')\n",
    "\n"
   ]
  },
  {
   "cell_type": "markdown",
   "metadata": {},
   "source": [
    "### Load the dataset\n",
    "\n",
    "- Load the train data and using all your knowledge of pandas try to explore the different statistical properties of the dataset."
   ]
  },
  {
   "cell_type": "code",
   "execution_count": 2,
   "metadata": {},
   "outputs": [],
   "source": [
    "# read the dataset and extract the features and target separately\n",
    "\n",
    "train = pd.read_csv('train.csv')\n",
    "test = pd.read_csv('test.csv')\n",
    "submission = pd.read_csv('sample_submission.csv')"
   ]
  },
  {
   "cell_type": "code",
   "execution_count": 3,
   "metadata": {},
   "outputs": [
    {
     "data": {
      "text/html": [
       "<div>\n",
       "<style scoped>\n",
       "    .dataframe tbody tr th:only-of-type {\n",
       "        vertical-align: middle;\n",
       "    }\n",
       "\n",
       "    .dataframe tbody tr th {\n",
       "        vertical-align: top;\n",
       "    }\n",
       "\n",
       "    .dataframe thead th {\n",
       "        text-align: right;\n",
       "    }\n",
       "</style>\n",
       "<table border=\"1\" class=\"dataframe\">\n",
       "  <thead>\n",
       "    <tr style=\"text-align: right;\">\n",
       "      <th></th>\n",
       "      <th>Name</th>\n",
       "      <th>Age</th>\n",
       "      <th>Nationality</th>\n",
       "      <th>Overall</th>\n",
       "      <th>Potential</th>\n",
       "      <th>Club</th>\n",
       "      <th>Value (M)</th>\n",
       "      <th>Wage (M)</th>\n",
       "      <th>Position</th>\n",
       "    </tr>\n",
       "  </thead>\n",
       "  <tbody>\n",
       "    <tr>\n",
       "      <th>0</th>\n",
       "      <td>F. Burdenski</td>\n",
       "      <td>25</td>\n",
       "      <td>Germany</td>\n",
       "      <td>54</td>\n",
       "      <td>58</td>\n",
       "      <td>Korona Kielce</td>\n",
       "      <td>0.07</td>\n",
       "      <td>0.001</td>\n",
       "      <td>CDM</td>\n",
       "    </tr>\n",
       "    <tr>\n",
       "      <th>1</th>\n",
       "      <td>A. Deiola</td>\n",
       "      <td>21</td>\n",
       "      <td>Italy</td>\n",
       "      <td>64</td>\n",
       "      <td>73</td>\n",
       "      <td>Cagliari</td>\n",
       "      <td>0.70</td>\n",
       "      <td>0.010</td>\n",
       "      <td>CM</td>\n",
       "    </tr>\n",
       "    <tr>\n",
       "      <th>2</th>\n",
       "      <td>T. Castagne</td>\n",
       "      <td>21</td>\n",
       "      <td>Belgium</td>\n",
       "      <td>72</td>\n",
       "      <td>79</td>\n",
       "      <td>Atalanta</td>\n",
       "      <td>3.70</td>\n",
       "      <td>0.013</td>\n",
       "      <td>RB</td>\n",
       "    </tr>\n",
       "    <tr>\n",
       "      <th>3</th>\n",
       "      <td>D. Gorman</td>\n",
       "      <td>21</td>\n",
       "      <td>Northern Ireland</td>\n",
       "      <td>57</td>\n",
       "      <td>66</td>\n",
       "      <td>Stevenage</td>\n",
       "      <td>0.16</td>\n",
       "      <td>0.002</td>\n",
       "      <td>CM</td>\n",
       "    </tr>\n",
       "    <tr>\n",
       "      <th>4</th>\n",
       "      <td>N. Molina Lucero</td>\n",
       "      <td>19</td>\n",
       "      <td>Argentina</td>\n",
       "      <td>63</td>\n",
       "      <td>75</td>\n",
       "      <td>Boca Juniors</td>\n",
       "      <td>0.55</td>\n",
       "      <td>0.002</td>\n",
       "      <td>LB</td>\n",
       "    </tr>\n",
       "  </tbody>\n",
       "</table>\n",
       "</div>"
      ],
      "text/plain": [
       "               Name  Age       Nationality  Overall  Potential           Club  \\\n",
       "0      F. Burdenski   25           Germany       54         58  Korona Kielce   \n",
       "1         A. Deiola   21             Italy       64         73       Cagliari   \n",
       "2       T. Castagne   21           Belgium       72         79       Atalanta   \n",
       "3         D. Gorman   21  Northern Ireland       57         66      Stevenage   \n",
       "4  N. Molina Lucero   19         Argentina       63         75   Boca Juniors   \n",
       "\n",
       "   Value (M)  Wage (M) Position  \n",
       "0       0.07     0.001      CDM  \n",
       "1       0.70     0.010       CM  \n",
       "2       3.70     0.013       RB  \n",
       "3       0.16     0.002       CM  \n",
       "4       0.55     0.002       LB  "
      ]
     },
     "execution_count": 3,
     "metadata": {},
     "output_type": "execute_result"
    }
   ],
   "source": [
    "train.drop('Id', axis = 1, inplace = True)\n",
    "train.head()"
   ]
  },
  {
   "cell_type": "code",
   "execution_count": 4,
   "metadata": {},
   "outputs": [
    {
     "data": {
      "text/plain": [
       "((14384, 9), (3597, 9))"
      ]
     },
     "execution_count": 4,
     "metadata": {},
     "output_type": "execute_result"
    }
   ],
   "source": [
    "train.shape, test.shape"
   ]
  },
  {
   "cell_type": "code",
   "execution_count": 5,
   "metadata": {},
   "outputs": [
    {
     "name": "stdout",
     "output_type": "stream",
     "text": [
      "<class 'pandas.core.frame.DataFrame'>\n",
      "RangeIndex: 14384 entries, 0 to 14383\n",
      "Data columns (total 9 columns):\n",
      "Name           14384 non-null object\n",
      "Age            14384 non-null int64\n",
      "Nationality    14384 non-null object\n",
      "Overall        14384 non-null int64\n",
      "Potential      14384 non-null int64\n",
      "Club           14173 non-null object\n",
      "Value (M)      14384 non-null float64\n",
      "Wage (M)       14384 non-null float64\n",
      "Position       14384 non-null object\n",
      "dtypes: float64(2), int64(3), object(4)\n",
      "memory usage: 1011.5+ KB\n"
     ]
    }
   ],
   "source": [
    "train.info()"
   ]
  },
  {
   "cell_type": "markdown",
   "metadata": {},
   "source": [
    "### Check Numerical and Categorical columns"
   ]
  },
  {
   "cell_type": "code",
   "execution_count": 6,
   "metadata": {},
   "outputs": [
    {
     "data": {
      "text/plain": [
       "(['Age', 'Overall', 'Potential', 'Value (M)', 'Wage (M)'],\n",
       " ['Name', 'Nationality', 'Club', 'Position'])"
      ]
     },
     "execution_count": 6,
     "metadata": {},
     "output_type": "execute_result"
    }
   ],
   "source": [
    "def numeric_features (dataframe):\n",
    "    num_column = dataframe.select_dtypes(include = np.number).columns.tolist()\n",
    "    return num_column\n",
    "num_col = numeric_features(train)\n",
    "\n",
    "def categorical_features(dataframe):\n",
    "    cat_column = dataframe.select_dtypes(exclude = np.number).columns.tolist()\n",
    "    return cat_column\n",
    "cat_col = categorical_features(train)\n",
    "\n",
    "num_col, cat_col"
   ]
  },
  {
   "cell_type": "code",
   "execution_count": 7,
   "metadata": {},
   "outputs": [
    {
     "data": {
      "text/html": [
       "<div>\n",
       "<style scoped>\n",
       "    .dataframe tbody tr th:only-of-type {\n",
       "        vertical-align: middle;\n",
       "    }\n",
       "\n",
       "    .dataframe tbody tr th {\n",
       "        vertical-align: top;\n",
       "    }\n",
       "\n",
       "    .dataframe thead th {\n",
       "        text-align: right;\n",
       "    }\n",
       "</style>\n",
       "<table border=\"1\" class=\"dataframe\">\n",
       "  <thead>\n",
       "    <tr style=\"text-align: right;\">\n",
       "      <th></th>\n",
       "      <th>Age</th>\n",
       "      <th>Overall</th>\n",
       "      <th>Potential</th>\n",
       "      <th>Value (M)</th>\n",
       "      <th>Wage (M)</th>\n",
       "    </tr>\n",
       "  </thead>\n",
       "  <tbody>\n",
       "    <tr>\n",
       "      <th>count</th>\n",
       "      <td>14384.000000</td>\n",
       "      <td>14384.000000</td>\n",
       "      <td>14384.000000</td>\n",
       "      <td>14384.000000</td>\n",
       "      <td>14384.000000</td>\n",
       "    </tr>\n",
       "    <tr>\n",
       "      <th>mean</th>\n",
       "      <td>25.148776</td>\n",
       "      <td>66.237695</td>\n",
       "      <td>71.181869</td>\n",
       "      <td>2.344967</td>\n",
       "      <td>0.011435</td>\n",
       "    </tr>\n",
       "    <tr>\n",
       "      <th>std</th>\n",
       "      <td>4.620911</td>\n",
       "      <td>6.954458</td>\n",
       "      <td>6.074111</td>\n",
       "      <td>5.105376</td>\n",
       "      <td>0.022614</td>\n",
       "    </tr>\n",
       "    <tr>\n",
       "      <th>min</th>\n",
       "      <td>16.000000</td>\n",
       "      <td>46.000000</td>\n",
       "      <td>46.000000</td>\n",
       "      <td>0.000000</td>\n",
       "      <td>0.000000</td>\n",
       "    </tr>\n",
       "    <tr>\n",
       "      <th>25%</th>\n",
       "      <td>21.000000</td>\n",
       "      <td>62.000000</td>\n",
       "      <td>67.000000</td>\n",
       "      <td>0.300000</td>\n",
       "      <td>0.002000</td>\n",
       "    </tr>\n",
       "    <tr>\n",
       "      <th>50%</th>\n",
       "      <td>25.000000</td>\n",
       "      <td>66.000000</td>\n",
       "      <td>71.000000</td>\n",
       "      <td>0.675000</td>\n",
       "      <td>0.004000</td>\n",
       "    </tr>\n",
       "    <tr>\n",
       "      <th>75%</th>\n",
       "      <td>28.000000</td>\n",
       "      <td>71.000000</td>\n",
       "      <td>75.000000</td>\n",
       "      <td>2.100000</td>\n",
       "      <td>0.012000</td>\n",
       "    </tr>\n",
       "    <tr>\n",
       "      <th>max</th>\n",
       "      <td>47.000000</td>\n",
       "      <td>94.000000</td>\n",
       "      <td>94.000000</td>\n",
       "      <td>105.000000</td>\n",
       "      <td>0.565000</td>\n",
       "    </tr>\n",
       "  </tbody>\n",
       "</table>\n",
       "</div>"
      ],
      "text/plain": [
       "                Age       Overall     Potential     Value (M)      Wage (M)\n",
       "count  14384.000000  14384.000000  14384.000000  14384.000000  14384.000000\n",
       "mean      25.148776     66.237695     71.181869      2.344967      0.011435\n",
       "std        4.620911      6.954458      6.074111      5.105376      0.022614\n",
       "min       16.000000     46.000000     46.000000      0.000000      0.000000\n",
       "25%       21.000000     62.000000     67.000000      0.300000      0.002000\n",
       "50%       25.000000     66.000000     71.000000      0.675000      0.004000\n",
       "75%       28.000000     71.000000     75.000000      2.100000      0.012000\n",
       "max       47.000000     94.000000     94.000000    105.000000      0.565000"
      ]
     },
     "execution_count": 7,
     "metadata": {},
     "output_type": "execute_result"
    }
   ],
   "source": [
    "train[num_col].describe()"
   ]
  },
  {
   "cell_type": "code",
   "execution_count": 8,
   "metadata": {},
   "outputs": [
    {
     "name": "stdout",
     "output_type": "stream",
     "text": [
      "                Age   Overall  Potential  Value (M)  Wage (M)\n",
      "Age        1.000000  0.459678  -0.224055   0.082716  0.149757\n",
      "Overall    0.459678  1.000000   0.678228   0.635618  0.589736\n",
      "Potential -0.224055  0.678228   1.000000   0.595095  0.512910\n",
      "Value (M)  0.082716  0.635618   0.595095   1.000000  0.845124\n",
      "Wage (M)   0.149757  0.589736   0.512910   0.845124  1.000000\n"
     ]
    }
   ],
   "source": [
    "corr_num = train[num_col].corr()\n",
    "print(corr_num)"
   ]
  },
  {
   "cell_type": "markdown",
   "metadata": {},
   "source": [
    "No highly correlated observations"
   ]
  },
  {
   "cell_type": "markdown",
   "metadata": {},
   "source": [
    "### Check Missing Values"
   ]
  },
  {
   "cell_type": "code",
   "execution_count": 9,
   "metadata": {},
   "outputs": [
    {
     "data": {
      "text/plain": [
       "Name             0\n",
       "Age              0\n",
       "Nationality      0\n",
       "Overall          0\n",
       "Potential        0\n",
       "Club           211\n",
       "Value (M)        0\n",
       "Wage (M)         0\n",
       "Position         0\n",
       "dtype: int64"
      ]
     },
     "execution_count": 9,
     "metadata": {},
     "output_type": "execute_result"
    }
   ],
   "source": [
    "train.isnull().sum()"
   ]
  },
  {
   "cell_type": "code",
   "execution_count": 10,
   "metadata": {},
   "outputs": [
    {
     "data": {
      "text/html": [
       "<div>\n",
       "<style scoped>\n",
       "    .dataframe tbody tr th:only-of-type {\n",
       "        vertical-align: middle;\n",
       "    }\n",
       "\n",
       "    .dataframe tbody tr th {\n",
       "        vertical-align: top;\n",
       "    }\n",
       "\n",
       "    .dataframe thead th {\n",
       "        text-align: right;\n",
       "    }\n",
       "</style>\n",
       "<table border=\"1\" class=\"dataframe\">\n",
       "  <thead>\n",
       "    <tr style=\"text-align: right;\">\n",
       "      <th></th>\n",
       "      <th>Name</th>\n",
       "      <th>Age</th>\n",
       "      <th>Nationality</th>\n",
       "      <th>Overall</th>\n",
       "      <th>Potential</th>\n",
       "      <th>Club</th>\n",
       "      <th>Value (M)</th>\n",
       "      <th>Wage (M)</th>\n",
       "      <th>Position</th>\n",
       "    </tr>\n",
       "  </thead>\n",
       "  <tbody>\n",
       "    <tr>\n",
       "      <th>7</th>\n",
       "      <td>C. Bassogog</td>\n",
       "      <td>21</td>\n",
       "      <td>Cameroon</td>\n",
       "      <td>65</td>\n",
       "      <td>72</td>\n",
       "      <td>NaN</td>\n",
       "      <td>0.0</td>\n",
       "      <td>0.0</td>\n",
       "      <td>ST</td>\n",
       "    </tr>\n",
       "    <tr>\n",
       "      <th>65</th>\n",
       "      <td>H. Kekana</td>\n",
       "      <td>32</td>\n",
       "      <td>South Africa</td>\n",
       "      <td>73</td>\n",
       "      <td>73</td>\n",
       "      <td>NaN</td>\n",
       "      <td>0.0</td>\n",
       "      <td>0.0</td>\n",
       "      <td>CDM</td>\n",
       "    </tr>\n",
       "    <tr>\n",
       "      <th>102</th>\n",
       "      <td>Gervinho</td>\n",
       "      <td>30</td>\n",
       "      <td>Ivory Coast</td>\n",
       "      <td>79</td>\n",
       "      <td>79</td>\n",
       "      <td>NaN</td>\n",
       "      <td>0.0</td>\n",
       "      <td>0.0</td>\n",
       "      <td>RW</td>\n",
       "    </tr>\n",
       "    <tr>\n",
       "      <th>108</th>\n",
       "      <td>T. Hořava</td>\n",
       "      <td>29</td>\n",
       "      <td>Czech Republic</td>\n",
       "      <td>73</td>\n",
       "      <td>73</td>\n",
       "      <td>NaN</td>\n",
       "      <td>0.0</td>\n",
       "      <td>0.0</td>\n",
       "      <td>CAM</td>\n",
       "    </tr>\n",
       "    <tr>\n",
       "      <th>139</th>\n",
       "      <td>Wang Yongpo</td>\n",
       "      <td>30</td>\n",
       "      <td>China PR</td>\n",
       "      <td>68</td>\n",
       "      <td>68</td>\n",
       "      <td>NaN</td>\n",
       "      <td>0.0</td>\n",
       "      <td>0.0</td>\n",
       "      <td>CAM</td>\n",
       "    </tr>\n",
       "    <tr>\n",
       "      <th>...</th>\n",
       "      <td>...</td>\n",
       "      <td>...</td>\n",
       "      <td>...</td>\n",
       "      <td>...</td>\n",
       "      <td>...</td>\n",
       "      <td>...</td>\n",
       "      <td>...</td>\n",
       "      <td>...</td>\n",
       "      <td>...</td>\n",
       "    </tr>\n",
       "    <tr>\n",
       "      <th>14270</th>\n",
       "      <td>L. Azcona</td>\n",
       "      <td>33</td>\n",
       "      <td>Ecuador</td>\n",
       "      <td>68</td>\n",
       "      <td>68</td>\n",
       "      <td>NaN</td>\n",
       "      <td>0.0</td>\n",
       "      <td>0.0</td>\n",
       "      <td>GK</td>\n",
       "    </tr>\n",
       "    <tr>\n",
       "      <th>14311</th>\n",
       "      <td>R. Feltscher</td>\n",
       "      <td>26</td>\n",
       "      <td>Venezuela</td>\n",
       "      <td>68</td>\n",
       "      <td>71</td>\n",
       "      <td>NaN</td>\n",
       "      <td>0.0</td>\n",
       "      <td>0.0</td>\n",
       "      <td>LB</td>\n",
       "    </tr>\n",
       "    <tr>\n",
       "      <th>14359</th>\n",
       "      <td>T. Hamed</td>\n",
       "      <td>28</td>\n",
       "      <td>Egypt</td>\n",
       "      <td>66</td>\n",
       "      <td>67</td>\n",
       "      <td>NaN</td>\n",
       "      <td>0.0</td>\n",
       "      <td>0.0</td>\n",
       "      <td>CDM</td>\n",
       "    </tr>\n",
       "    <tr>\n",
       "      <th>14372</th>\n",
       "      <td>A. Aleksandrov</td>\n",
       "      <td>31</td>\n",
       "      <td>Bulgaria</td>\n",
       "      <td>68</td>\n",
       "      <td>68</td>\n",
       "      <td>NaN</td>\n",
       "      <td>0.0</td>\n",
       "      <td>0.0</td>\n",
       "      <td>CB</td>\n",
       "    </tr>\n",
       "    <tr>\n",
       "      <th>14381</th>\n",
       "      <td>G. Terziev</td>\n",
       "      <td>25</td>\n",
       "      <td>Bulgaria</td>\n",
       "      <td>71</td>\n",
       "      <td>76</td>\n",
       "      <td>NaN</td>\n",
       "      <td>0.0</td>\n",
       "      <td>0.0</td>\n",
       "      <td>RB</td>\n",
       "    </tr>\n",
       "  </tbody>\n",
       "</table>\n",
       "<p>211 rows × 9 columns</p>\n",
       "</div>"
      ],
      "text/plain": [
       "                 Name  Age     Nationality  Overall  Potential Club  \\\n",
       "7         C. Bassogog   21        Cameroon       65         72  NaN   \n",
       "65          H. Kekana   32    South Africa       73         73  NaN   \n",
       "102          Gervinho   30     Ivory Coast       79         79  NaN   \n",
       "108         T. Hořava   29  Czech Republic       73         73  NaN   \n",
       "139       Wang Yongpo   30        China PR       68         68  NaN   \n",
       "...               ...  ...             ...      ...        ...  ...   \n",
       "14270       L. Azcona   33         Ecuador       68         68  NaN   \n",
       "14311    R. Feltscher   26       Venezuela       68         71  NaN   \n",
       "14359        T. Hamed   28           Egypt       66         67  NaN   \n",
       "14372  A. Aleksandrov   31        Bulgaria       68         68  NaN   \n",
       "14381      G. Terziev   25        Bulgaria       71         76  NaN   \n",
       "\n",
       "       Value (M)  Wage (M) Position  \n",
       "7            0.0       0.0       ST  \n",
       "65           0.0       0.0      CDM  \n",
       "102          0.0       0.0       RW  \n",
       "108          0.0       0.0      CAM  \n",
       "139          0.0       0.0      CAM  \n",
       "...          ...       ...      ...  \n",
       "14270        0.0       0.0       GK  \n",
       "14311        0.0       0.0       LB  \n",
       "14359        0.0       0.0      CDM  \n",
       "14372        0.0       0.0       CB  \n",
       "14381        0.0       0.0       RB  \n",
       "\n",
       "[211 rows x 9 columns]"
      ]
     },
     "execution_count": 10,
     "metadata": {},
     "output_type": "execute_result"
    }
   ],
   "source": [
    "train[train['Club'].isnull()]"
   ]
  },
  {
   "cell_type": "code",
   "execution_count": 11,
   "metadata": {},
   "outputs": [
    {
     "data": {
      "text/plain": [
       "True"
      ]
     },
     "execution_count": 11,
     "metadata": {},
     "output_type": "execute_result"
    }
   ],
   "source": [
    "train[train['Wage (M)'] == 0].equals(train[train['Club'].isnull()])"
   ]
  },
  {
   "cell_type": "markdown",
   "metadata": {},
   "source": [
    "where ever Club data is null, Wage data is '0' "
   ]
  },
  {
   "cell_type": "code",
   "execution_count": 12,
   "metadata": {},
   "outputs": [
    {
     "data": {
      "text/html": [
       "<div>\n",
       "<style scoped>\n",
       "    .dataframe tbody tr th:only-of-type {\n",
       "        vertical-align: middle;\n",
       "    }\n",
       "\n",
       "    .dataframe tbody tr th {\n",
       "        vertical-align: top;\n",
       "    }\n",
       "\n",
       "    .dataframe thead th {\n",
       "        text-align: right;\n",
       "    }\n",
       "</style>\n",
       "<table border=\"1\" class=\"dataframe\">\n",
       "  <thead>\n",
       "    <tr style=\"text-align: right;\">\n",
       "      <th></th>\n",
       "      <th>Name</th>\n",
       "      <th>Age</th>\n",
       "      <th>Nationality</th>\n",
       "      <th>Overall</th>\n",
       "      <th>Potential</th>\n",
       "      <th>Club</th>\n",
       "      <th>Value (M)</th>\n",
       "      <th>Wage (M)</th>\n",
       "      <th>Position</th>\n",
       "    </tr>\n",
       "  </thead>\n",
       "  <tbody>\n",
       "    <tr>\n",
       "      <th>102</th>\n",
       "      <td>Gervinho</td>\n",
       "      <td>30</td>\n",
       "      <td>Ivory Coast</td>\n",
       "      <td>79</td>\n",
       "      <td>79</td>\n",
       "      <td>NaN</td>\n",
       "      <td>0.000</td>\n",
       "      <td>0.000</td>\n",
       "      <td>RW</td>\n",
       "    </tr>\n",
       "    <tr>\n",
       "      <th>140</th>\n",
       "      <td>S. Koné</td>\n",
       "      <td>21</td>\n",
       "      <td>Ivory Coast</td>\n",
       "      <td>54</td>\n",
       "      <td>65</td>\n",
       "      <td>Djurgårdens IF</td>\n",
       "      <td>0.100</td>\n",
       "      <td>0.001</td>\n",
       "      <td>CB</td>\n",
       "    </tr>\n",
       "    <tr>\n",
       "      <th>337</th>\n",
       "      <td>E. Latte Lath</td>\n",
       "      <td>18</td>\n",
       "      <td>Ivory Coast</td>\n",
       "      <td>63</td>\n",
       "      <td>83</td>\n",
       "      <td>Pescara</td>\n",
       "      <td>0.750</td>\n",
       "      <td>0.001</td>\n",
       "      <td>RW</td>\n",
       "    </tr>\n",
       "    <tr>\n",
       "      <th>1282</th>\n",
       "      <td>J. Boga</td>\n",
       "      <td>20</td>\n",
       "      <td>Ivory Coast</td>\n",
       "      <td>71</td>\n",
       "      <td>81</td>\n",
       "      <td>Birmingham City</td>\n",
       "      <td>3.800</td>\n",
       "      <td>0.048</td>\n",
       "      <td>LM</td>\n",
       "    </tr>\n",
       "    <tr>\n",
       "      <th>1335</th>\n",
       "      <td>K. Zohi</td>\n",
       "      <td>20</td>\n",
       "      <td>Ivory Coast</td>\n",
       "      <td>61</td>\n",
       "      <td>71</td>\n",
       "      <td>RC Strasbourg</td>\n",
       "      <td>0.425</td>\n",
       "      <td>0.004</td>\n",
       "      <td>ST</td>\n",
       "    </tr>\n",
       "    <tr>\n",
       "      <th>1538</th>\n",
       "      <td>R. Assalé</td>\n",
       "      <td>23</td>\n",
       "      <td>Ivory Coast</td>\n",
       "      <td>70</td>\n",
       "      <td>79</td>\n",
       "      <td>BSC Young Boys</td>\n",
       "      <td>2.800</td>\n",
       "      <td>0.015</td>\n",
       "      <td>LM</td>\n",
       "    </tr>\n",
       "    <tr>\n",
       "      <th>1832</th>\n",
       "      <td>C. Timite</td>\n",
       "      <td>19</td>\n",
       "      <td>Ivory Coast</td>\n",
       "      <td>54</td>\n",
       "      <td>72</td>\n",
       "      <td>AC Ajaccio</td>\n",
       "      <td>0.150</td>\n",
       "      <td>0.001</td>\n",
       "      <td>RW</td>\n",
       "    </tr>\n",
       "    <tr>\n",
       "      <th>2280</th>\n",
       "      <td>S. Doumbia</td>\n",
       "      <td>29</td>\n",
       "      <td>Ivory Coast</td>\n",
       "      <td>79</td>\n",
       "      <td>79</td>\n",
       "      <td>Sporting CP</td>\n",
       "      <td>12.500</td>\n",
       "      <td>0.026</td>\n",
       "      <td>CF</td>\n",
       "    </tr>\n",
       "    <tr>\n",
       "      <th>2501</th>\n",
       "      <td>L. Koné</td>\n",
       "      <td>28</td>\n",
       "      <td>Ivory Coast</td>\n",
       "      <td>76</td>\n",
       "      <td>77</td>\n",
       "      <td>Sunderland</td>\n",
       "      <td>7.000</td>\n",
       "      <td>0.013</td>\n",
       "      <td>CB</td>\n",
       "    </tr>\n",
       "    <tr>\n",
       "      <th>3031</th>\n",
       "      <td>A. Traorè</td>\n",
       "      <td>17</td>\n",
       "      <td>Ivory Coast</td>\n",
       "      <td>54</td>\n",
       "      <td>71</td>\n",
       "      <td>Perugia</td>\n",
       "      <td>0.130</td>\n",
       "      <td>0.001</td>\n",
       "      <td>RW</td>\n",
       "    </tr>\n",
       "  </tbody>\n",
       "</table>\n",
       "</div>"
      ],
      "text/plain": [
       "               Name  Age  Nationality  Overall  Potential             Club  \\\n",
       "102        Gervinho   30  Ivory Coast       79         79              NaN   \n",
       "140         S. Koné   21  Ivory Coast       54         65   Djurgårdens IF   \n",
       "337   E. Latte Lath   18  Ivory Coast       63         83          Pescara   \n",
       "1282        J. Boga   20  Ivory Coast       71         81  Birmingham City   \n",
       "1335        K. Zohi   20  Ivory Coast       61         71    RC Strasbourg   \n",
       "1538      R. Assalé   23  Ivory Coast       70         79   BSC Young Boys   \n",
       "1832      C. Timite   19  Ivory Coast       54         72       AC Ajaccio   \n",
       "2280     S. Doumbia   29  Ivory Coast       79         79      Sporting CP   \n",
       "2501        L. Koné   28  Ivory Coast       76         77       Sunderland   \n",
       "3031      A. Traorè   17  Ivory Coast       54         71          Perugia   \n",
       "\n",
       "      Value (M)  Wage (M) Position  \n",
       "102       0.000     0.000       RW  \n",
       "140       0.100     0.001       CB  \n",
       "337       0.750     0.001       RW  \n",
       "1282      3.800     0.048       LM  \n",
       "1335      0.425     0.004       ST  \n",
       "1538      2.800     0.015       LM  \n",
       "1832      0.150     0.001       RW  \n",
       "2280     12.500     0.026       CF  \n",
       "2501      7.000     0.013       CB  \n",
       "3031      0.130     0.001       RW  "
      ]
     },
     "execution_count": 12,
     "metadata": {},
     "output_type": "execute_result"
    }
   ],
   "source": [
    "train[train['Nationality'] == 'Ivory Coast'].head(10)"
   ]
  },
  {
   "cell_type": "code",
   "execution_count": 13,
   "metadata": {},
   "outputs": [],
   "source": [
    "def missing_data(dataframe):\n",
    "    total = dataframe.isnull().sum().sort_values(ascending = False)\n",
    "    percentage = (dataframe.isnull().sum()/dataframe.count()).sort_values(ascending = False)\n",
    "    missing_data = pd.concat([total, percentage], axis = 1, keys = ['Total', 'Percentage'])\n",
    "    return missing_data\n",
    "\n",
    "missing_data = missing_data(train)"
   ]
  },
  {
   "cell_type": "markdown",
   "metadata": {},
   "source": [
    "### Visualize the data\n",
    "\n",
    "- Check for the categorical & continuous features. \n",
    "- Check out the best plots for plotting between categorical target and continuous features and try making some inferences from these plots.\n",
    "- Check for the correlation between the features"
   ]
  },
  {
   "cell_type": "code",
   "execution_count": 14,
   "metadata": {},
   "outputs": [
    {
     "data": {
      "image/png": "[encoded data removed]",
      "text/plain": [
       "<Figure size 1152x576 with 1 Axes>"
      ]
     },
     "metadata": {
      "needs_background": "light"
     },
     "output_type": "display_data"
    },
    {
     "data": {
      "text/plain": [
       "[<matplotlib.lines.Line2D at 0x7fc194dbf198>]"
      ]
     },
     "execution_count": 14,
     "metadata": {},
     "output_type": "execute_result"
    },
    {
     "data": {
      "image/png": "[encoded data removed]",
      "text/plain": [
       "<Figure size 720x576 with 1 Axes>"
      ]
     },
     "metadata": {
      "needs_background": "light"
     },
     "output_type": "display_data"
    },
    {
     "data": {
      "image/png": "[encoded data removed]",
      "text/plain": [
       "<Figure size 1152x576 with 1 Axes>"
      ]
     },
     "metadata": {
      "needs_background": "light"
     },
     "output_type": "display_data"
    },
    {
     "data": {
      "text/plain": [
       "<Figure size 432x288 with 0 Axes>"
      ]
     },
     "metadata": {},
     "output_type": "display_data"
    },
    {
     "data": {
      "image/png": "[encoded data removed]",
      "text/plain": [
       "<Figure size 1152x576 with 1 Axes>"
      ]
     },
     "metadata": {},
     "output_type": "display_data"
    }
   ],
   "source": [
    "plt.figure(figsize = (16,8))\n",
    "plt.title('Grouping players by preferred position', fontsize = 15, fontweight = 'bold')\n",
    "plt.xlabel('Position', fontsize = 12)\n",
    "plt.ylabel('count')\n",
    "sns.countplot(x = 'Position', data = train)\n",
    "plt.show()\n",
    "\n",
    "plt.figure(figsize = (10,8))\n",
    "plt.title('Wage distribution of players', fontsize = 15,fontweight = 'bold' )\n",
    "plt.xlabel('Wage')\n",
    "plt.ylabel('frequency')\n",
    "sns.distplot(train['Wage (M)'])\n",
    "\n",
    "value_dist = train.sort_values('Wage (M)', ascending = False).reset_index().head(100)[['Name', 'Wage (M)']]\n",
    "plt.figure(figsize=(16,8))\n",
    "sns.set_style(\"whitegrid\")\n",
    "plt.ylabel('Player Wage', fontsize = 15)\n",
    "plt.plot(value_dist['Wage (M)'])\n",
    "\n",
    "plt.figure()\n",
    "overall = train.sort_values('Overall')['Overall'].unique()\n",
    "over_all_value = train.groupby('Overall')['Value (M)'].mean()\n",
    "plt.figure(figsize = (16,8))\n",
    "plt.title('Overall vs Value', fontsize=20, fontweight='bold')\n",
    "plt.xlabel('Overall', fontsize=15)\n",
    "plt.ylabel('Value', fontsize=15)\n",
    "plt.plot(overall, over_all_value, label = 'Value in (M)')\n",
    "\n",
    "\n",
    "    "
   ]
  },
  {
   "cell_type": "code",
   "execution_count": 15,
   "metadata": {},
   "outputs": [
    {
     "data": {
      "image/png": "[encoded data removed]",
      "text/plain": [
       "<Figure size 720x432 with 1 Axes>"
      ]
     },
     "metadata": {},
     "output_type": "display_data"
    }
   ],
   "source": [
    "# Code Starts here\n",
    "Potential = train.sort_values('Potential')['Potential'].unique()\n",
    "potential_values = train.groupby('Potential')['Value (M)'].mean()\n",
    "plt.figure(figsize= (10,6))\n",
    "plt.plot(Potential, potential_values)\n",
    "plt.xlabel('Potential')\n",
    "plt.ylabel(\"Value\")\n",
    "plt.title('Potential Vs Value')\n",
    "plt.show()\n",
    "# Code ends here"
   ]
  },
  {
   "cell_type": "markdown",
   "metadata": {},
   "source": [
    "### Model building\n",
    "\n",
    "- Separate the features and target and then split the train data into train and validation set.\n",
    "- Now let's come to the actual task, using linear regression, predict the `Value (M)`. \n",
    "- Try improving upon the `r2_score` (R-Square) using different parameters that give the best score. You can use higher degree [Polynomial Features of sklearn](https://scikit-learn.org/stable/modules/generated/sklearn.preprocessing.PolynomialFeatures.html) to improve the model prediction. \n",
    "\n"
   ]
  },
  {
   "cell_type": "code",
   "execution_count": 16,
   "metadata": {},
   "outputs": [
    {
     "name": "stdout",
     "output_type": "stream",
     "text": [
      "6.371747695098798 0.7545636056065502 1.3755094154249456\n"
     ]
    }
   ],
   "source": [
    "# Code Starts here\n",
    "\n",
    "X = train.drop('Value (M)', axis = 1)\n",
    "y = train['Value (M)']\n",
    "\n",
    "# independent variables\n",
    "X = X[['Overall','Potential','Wage (M)', 'Age']]\n",
    "\n",
    "X_train, X_test, Y_train, Y_test = train_test_split(X, y, random_state = 40, test_size = 0.3)\n",
    "\n",
    "model = LinearRegression()\n",
    "model.fit(X_train, Y_train)\n",
    "y_pred = model.predict(X_test)\n",
    "\n",
    "mse = mean_squared_error(Y_test, y_pred)\n",
    "r2 = r2_score(Y_test, y_pred)\n",
    "mae = mean_absolute_error(Y_test, y_pred)\n",
    "print(mse, r2, mae)\n",
    "\n",
    "\n",
    "\n",
    "\n",
    "# Code ends here"
   ]
  },
  {
   "cell_type": "code",
   "execution_count": 17,
   "metadata": {},
   "outputs": [
    {
     "data": {
      "text/html": [
       "<div>\n",
       "<style scoped>\n",
       "    .dataframe tbody tr th:only-of-type {\n",
       "        vertical-align: middle;\n",
       "    }\n",
       "\n",
       "    .dataframe tbody tr th {\n",
       "        vertical-align: top;\n",
       "    }\n",
       "\n",
       "    .dataframe thead th {\n",
       "        text-align: right;\n",
       "    }\n",
       "</style>\n",
       "<table border=\"1\" class=\"dataframe\">\n",
       "  <thead>\n",
       "    <tr style=\"text-align: right;\">\n",
       "      <th></th>\n",
       "      <th>Overall</th>\n",
       "      <th>Potential</th>\n",
       "      <th>Wage (M)</th>\n",
       "      <th>Age</th>\n",
       "    </tr>\n",
       "  </thead>\n",
       "  <tbody>\n",
       "    <tr>\n",
       "      <th>6149</th>\n",
       "      <td>74</td>\n",
       "      <td>74</td>\n",
       "      <td>0.034</td>\n",
       "      <td>32</td>\n",
       "    </tr>\n",
       "    <tr>\n",
       "      <th>4061</th>\n",
       "      <td>69</td>\n",
       "      <td>75</td>\n",
       "      <td>0.011</td>\n",
       "      <td>24</td>\n",
       "    </tr>\n",
       "    <tr>\n",
       "      <th>5520</th>\n",
       "      <td>67</td>\n",
       "      <td>68</td>\n",
       "      <td>0.006</td>\n",
       "      <td>27</td>\n",
       "    </tr>\n",
       "    <tr>\n",
       "      <th>307</th>\n",
       "      <td>70</td>\n",
       "      <td>70</td>\n",
       "      <td>0.006</td>\n",
       "      <td>29</td>\n",
       "    </tr>\n",
       "    <tr>\n",
       "      <th>13365</th>\n",
       "      <td>64</td>\n",
       "      <td>78</td>\n",
       "      <td>0.005</td>\n",
       "      <td>20</td>\n",
       "    </tr>\n",
       "  </tbody>\n",
       "</table>\n",
       "</div>"
      ],
      "text/plain": [
       "       Overall  Potential  Wage (M)  Age\n",
       "6149        74         74     0.034   32\n",
       "4061        69         75     0.011   24\n",
       "5520        67         68     0.006   27\n",
       "307         70         70     0.006   29\n",
       "13365       64         78     0.005   20"
      ]
     },
     "execution_count": 17,
     "metadata": {},
     "output_type": "execute_result"
    }
   ],
   "source": [
    "X_train.head()"
   ]
  },
  {
   "cell_type": "markdown",
   "metadata": {},
   "source": [
    "### Prediction on the test data and creating the sample submission file.\n",
    "\n",
    "- Load the test data and store the `Id` column in a separate variable.\n",
    "- Perform the same operations on the test data that you have performed on the train data.\n",
    "- Create the submission file as a `csv` file consisting of the `Id` column from the test data and your prediction as the second column."
   ]
  },
  {
   "cell_type": "code",
   "execution_count": 18,
   "metadata": {},
   "outputs": [],
   "source": [
    "# Code Starts here\n",
    "Id = test['Id']\n",
    "\n",
    "Y_pred = model.predict(test[['Overall', 'Potential', 'Wage (M)', 'Age']])\n",
    "submission_sample = pd.DataFrame({'Id' : Id, 'Value (M)' : Y_pred})\n",
    "submission_sample.to_csv('sample_submission.csv', index = False) \n",
    "\n",
    "# Code ends here"
   ]
  },
  {
   "cell_type": "code",
   "execution_count": 19,
   "metadata": {},
   "outputs": [
    {
     "name": "stdout",
     "output_type": "stream",
     "text": [
      "0.6461370089191879\n",
      "0.9456115624875339\n"
     ]
    }
   ],
   "source": [
    "## Instantiate third degree polynomial features\n",
    "poly = PolynomialFeatures(degree=2)\n",
    "\n",
    "\n",
    "    \n",
    "# fit and transform polynomial features on X_train    \n",
    "X_train_2 = poly.fit_transform(X_train)\n",
    "\n",
    "# instantiate Linear regression model\n",
    "model=LinearRegression()\n",
    "\n",
    "# fit the model \n",
    "model.fit(X_train_2,Y_train)\n",
    "    \n",
    "# transform on x_test    \n",
    "X_test_2 = poly.transform(X_test)\n",
    "\n",
    "# predict the model performance\n",
    "y_pred_2=model.predict(X_test_2)\n",
    "    \n",
    "# Calculate the mean absolute error    \n",
    "mae= mean_absolute_error(Y_test, y_pred_2)\n",
    "print (mae)\n",
    "\n",
    "# calculate the r2 score\n",
    "r2= r2_score(Y_test, y_pred_2)\n",
    "print(r2)"
   ]
  },
  {
   "cell_type": "code",
   "execution_count": 20,
   "metadata": {},
   "outputs": [],
   "source": [
    "Id = test['Id']\n",
    "test_obsev = test[['Overall', 'Potential', 'Wage (M)', 'Age']]\n",
    "test_data = poly.fit_transform(test_obsev)\n",
    "Y_pred = model.predict(test_data)\n",
    "\n",
    "submission_sample = pd.DataFrame({'Id' : Id, 'Value (M)' : Y_pred})\n",
    "submission_sample.to_csv('sample_submission.csv', index = False) \n"
   ]
  },
  {
   "cell_type": "code",
   "execution_count": 21,
   "metadata": {},
   "outputs": [],
   "source": [
    "train['Club']= train['Club'].str.replace('unknown', train.Club.mode()[0])"
   ]
  },
  {
   "cell_type": "code",
   "execution_count": 22,
   "metadata": {},
   "outputs": [],
   "source": [
    "le = LabelEncoder()\n",
    "train['Position'] = le.fit_transform(train['Position'])\n",
    "train['Nationality'] = le.fit_transform(train['Nationality'])\n"
   ]
  },
  {
   "cell_type": "code",
   "execution_count": 26,
   "metadata": {},
   "outputs": [
    {
     "name": "stdout",
     "output_type": "stream",
     "text": [
      "1.3723243671657253 0.9471387818958192 0.6402837998927461\n"
     ]
    }
   ],
   "source": [
    "poly = PolynomialFeatures(degree=2)\n",
    "X = train.drop('Value (M)', axis = 1)\n",
    "y = train['Value (M)']\n",
    "\n",
    "# independent variables\n",
    "X = X[['Overall','Potential','Wage (M)', 'Age', 'Position', 'Nationality']]\n",
    "\n",
    "X_train, X_test, Y_train, Y_test = train_test_split(X, y, random_state = 40, test_size = 0.3)\n",
    "X_train_2 = poly.fit_transform(X_train)\n",
    "model = LinearRegression()\n",
    "model.fit(X_train_2, Y_train)\n",
    "X_test_2 = poly.transform(X_test)\n",
    "y_pred = model.predict(X_test_2)\n",
    "\n",
    "mse = mean_squared_error(Y_test, y_pred)\n",
    "r2 = r2_score(Y_test, y_pred)\n",
    "mae = mean_absolute_error(Y_test, y_pred)\n",
    "print(mse, r2, mae)\n",
    "\n",
    "Id = test['Id']\n",
    "test['Position'] = le.fit_transform(test['Position'])\n",
    "test['Nationality'] = le.fit_transform(test['Nationality'])\n",
    "\n",
    "Y_pred = model.predict(poly.transform(test[['Overall', 'Potential', 'Wage (M)', 'Age', 'Position', 'Nationality']]))\n",
    "submission_sample = pd.DataFrame({'Id' : Id, 'Value (M)' : Y_pred})\n",
    "submission_sample.to_csv('sample_submission.csv', index = False) \n",
    "\n"
   ]
  },
  {
   "cell_type": "code",
   "execution_count": null,
   "metadata": {},
   "outputs": [],
   "source": [
    "## Instantiate third degree polynomial features\n",
    "poly = PolynomialFeatures(degree=2)\n",
    "\n",
    "\n",
    "    \n",
    "# fit and transform polynomial features on X_train    \n",
    "X_train_2 = poly.fit_transform(X_train)\n",
    "\n",
    "# instantiate Linear regression model\n",
    "model=LinearRegression()\n",
    "\n",
    "# fit the model \n",
    "model.fit(X_train_2,Y_train)\n",
    "    \n",
    "# transform on x_test    \n",
    "X_test_2 = poly.transform(X_test)\n",
    "\n",
    "# predict the model performance\n",
    "y_pred_2=model.predict(X_test_2)\n",
    "    \n",
    "# Calculate the mean absolute error    \n",
    "mae= mean_absolute_error(Y_test, y_pred_2)\n",
    "print (mae)\n",
    "\n",
    "# calculate the r2 score\n",
    "r2= r2_score(Y_test, y_pred_2)\n",
    "print(r2)"
   ]
  }
 ],
 "metadata": {
  "kernelspec": {
   "display_name": "Python 3",
   "language": "python",
   "name": "python3"
  },
  "language_info": {
   "codemirror_mode": {
    "name": "ipython",
    "version": 3
   },
   "file_extension": ".py",
   "mimetype": "text/x-python",
   "name": "python",
   "nbconvert_exporter": "python",
   "pygments_lexer": "ipython3",
   "version": "3.7.3"
  }
 },
 "nbformat": 4,
 "nbformat_minor": 2
}
